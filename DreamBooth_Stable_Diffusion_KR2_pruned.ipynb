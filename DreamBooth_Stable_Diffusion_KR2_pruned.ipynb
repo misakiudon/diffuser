{
  "cells": [
    {
      "cell_type": "code",
      "execution_count": null,
      "metadata": {
        "cellView": "form",
        "id": "XU7NuMAA2drw"
      },
      "outputs": [],
      "source": [
        "#@markdown GPU 종류와 사용 가능한 VRAM 확인하기\n",
        "!nvidia-smi --query-gpu=name,memory.total,memory.free --format=csv,noheader"
      ]
    },
    {
      "cell_type": "markdown",
      "metadata": {
        "id": "BzM7j0ZSc_9c"
      },
      "source": [
        "https://github.com/ShivamShrirao/diffusers/tree/main/examples/dreambooth"
      ]
    },
    {
      "cell_type": "markdown",
      "metadata": {
        "id": "wnTMyW41cC1E"
      },
      "source": [
        "## 요구사항 설치"
      ]
    },
    {
      "cell_type": "code",
      "execution_count": null,
      "metadata": {
        "id": "aLWXPZqjsZVV"
      },
      "outputs": [],
      "source": [
        "!wget -q https://github.com/ShivamShrirao/diffusers/raw/main/examples/dreambooth/train_dreambooth.py\n",
        "!wget -q https://github.com/ShivamShrirao/diffusers/raw/main/scripts/convert_diffusers_to_original_stable_diffusion.py\n",
        "!wget -q https://raw.githubusercontent.com/huggingface/diffusers/039958eae55ff0700cfb42a7e72739575ab341f1/scripts/convert_original_stable_diffusion_to_diffusers.py\n",
        "%pip install -qq git+https://github.com/ShivamShrirao/diffusers\n",
        "%pip install -q -U --pre triton\n",
        "%pip install -q accelerate==0.12.0 transformers ftfy bitsandbytes gradio natsort\n",
        "\n",
        "%pip install -q https://github.com/metrolobo/xformers_wheels/releases/download/1d31a3ac_various_6/xformers-0.0.14.dev0-cp37-cp37m-linux_x86_64.whl\n",
        "# These were compiled on Tesla T4, should also work on P100, thanks to https://github.com/metrolobo\n",
        "\n",
        "# If precompiled wheels don't work, install it with the following command. It will take around 40 minutes to compile.\n",
        "# %pip install git+https://github.com/facebookresearch/xformers@1d31a3a#egg=xformers\n",
        "\n",
        "%pip install -q OmegaConf\n",
        "# convert_original_stable_diffusion_to_diffusers.py에 OmegaConf가 필요함"
      ]
    },
    {
      "cell_type": "markdown",
      "source": [
        "## 구글 드라이브 마운트\n",
        "\n"
      ],
      "metadata": {
        "id": "3envhkNAjSNf"
      }
    },
    {
      "cell_type": "code",
      "execution_count": null,
      "metadata": {
        "id": "y4lqqWT_uxD2"
      },
      "outputs": [],
      "source": [
        "from google.colab import drive\n",
        "drive.mount('/content/drive')\n"
      ]
    },
    {
      "cell_type": "markdown",
      "metadata": {
        "id": "G0NV324ZcL9L"
      },
      "source": [
        "## 경로 설정"
      ]
    },
    {
      "cell_type": "code",
      "execution_count": null,
      "metadata": {
        "id": "Rxg0y5MBudmd",
        "cellView": "form"
      },
      "outputs": [],
      "source": [
        "#@markdown 좌측 파일 탐색기에서 우클릭 - 경로 복사 할수 있음\n",
        "\n",
        "#@markdown 구글 드라이브 폴더는 /content/drive/MyDrive에서 확인가능\n",
        "\n",
        "#@markdown 학습 시킬 모델 파일의 경로\n",
        "ORIG_MODEL_PATH = \"/content/drive/MyDrive/SD/models/Stable-diffusion/animefull-final-pruned.ckpt\" #@param {type:\"string\"}\n",
        "\n",
        "#@markdown yaml 파일의 경로\n",
        "ORIG_YAML_PATH = \"/content/drive/MyDrive/SD/models/Stable-diffusion/animefull-final-pruned.yaml\" #@param {type:\"string\"}\n",
        "\n",
        "#@markdown 학습 완료된 모델 파일(ckpt 변환 이전)을 저장할 경로\n",
        "\n",
        "OUTPUT_DIR = \"/content/dreambooth\" #@param {type:\"string\"}\n",
        "\n",
        "print(f\"[*] Weights will be saved at {OUTPUT_DIR}\")\n",
        "\n",
        "!mkdir -p $OUTPUT_DIR"
      ]
    },
    {
      "cell_type": "markdown",
      "source": [
        "## 모델 파일을 디퓨저 포맷으로 변환하기 (약 5분 소요)"
      ],
      "metadata": {
        "id": "rmtN7XURpTLX"
      }
    },
    {
      "cell_type": "code",
      "source": [
        "CONVERTED_MODEL_PATH = \"/content/converted\"\n",
        "\n",
        "!python convert_original_stable_diffusion_to_diffusers.py \\\n",
        "  --checkpoint_path $ORIG_MODEL_PATH \\\n",
        "  --original_config_file $ORIG_YAML_PATH \\\n",
        "  --dump_path $CONVERTED_MODEL_PATH"
      ],
      "metadata": {
        "id": "M5d_VQmaku0r"
      },
      "execution_count": null,
      "outputs": []
    },
    {
      "cell_type": "markdown",
      "metadata": {
        "id": "qn5ILIyDJIcX"
      },
      "source": [
        "# AI Trainning\n",
        "\n",
        "아래에 있는 표를 참조해서 메모리와 속도를 확인 가능함.\n",
        "Tesla T4 GPU에서 테스트됨.\n",
        "\n",
        "\n",
        "| `fp16` | `train_batch_size` | `gradient_accumulation_steps` | `gradient_checkpointing` | `use_8bit_adam` | GB VRAM usage | Speed (it/s) |\n",
        "| ---- | ------------------ | ----------------------------- | ----------------------- | --------------- | ---------- | ------------ |\n",
        "| fp16 | 1                  | 1                             | TRUE                    | TRUE            | 9.92       | 0.93         |\n",
        "| no   | 1                  | 1                             | TRUE                    | TRUE            | 10.08      | 0.42         |\n",
        "| fp16 | 2                  | 1                             | TRUE                    | TRUE            | 10.4       | 0.66         |\n",
        "| fp16 | 1                  | 1                             | FALSE                   | TRUE            | 11.17      | 1.14         |\n",
        "| no   | 1                  | 1                             | FALSE                   | TRUE            | 11.17      | 0.49         |\n",
        "| fp16 | 1                  | 2                             | TRUE                    | TRUE            | 11.56      | 1            |\n",
        "| fp16 | 2                  | 1                             | FALSE                   | TRUE            | 13.67      | 0.82         |\n",
        "| fp16 | 1                  | 2                             | FALSE                   | TRUE            | 13.7       | 0.83          |\n",
        "| fp16 | 1                  | 1                             | TRUE                    | FALSE           | 15.79      | 0.77         |\n"
      ]
    },
    {
      "cell_type": "markdown",
      "metadata": {
        "id": "-ioxxvHoicPs"
      },
      "source": [
        "Add `--gradient_checkpointing` flag for around 9.92 GB VRAM usage.\n",
        "\n",
        "remove `--use_8bit_adam` flag for full precision. Requires 15.79 GB with `--gradient_checkpointing` else 17.8 GB.\n",
        "\n",
        "remove `--train_text_encoder` flag to reduce memory usage further, degrades output quality."
      ]
    },
    {
      "cell_type": "code",
      "execution_count": null,
      "metadata": {
        "id": "5vDpCxId1aCm"
      },
      "outputs": [],
      "source": [
        "# You can also add multiple concepts here. Try tweaking `--max_train_steps` accordingly.\n",
        "\n",
        "#@markdown 새로 만들 프롬프트\n",
        "INSTANCE_PROMPT = \"jakga \" #@param {type:\"string\"}\n",
        "#@markdown 새로 만들 프롬프트가 속하는 분류\n",
        "CLASS_PROMPT = \"girl\" #@param {type:\"string\"}\n",
        "\n",
        "concepts_list = [\n",
        "    {\n",
        "        \"instance_prompt\":      INSTANCE_PROMPT,\n",
        "        \"class_prompt\":         CLASS_PROMPT,\n",
        "        \"instance_data_dir\":    \"/content/data/\" + INSTANCE_PROMPT,\n",
        "        \"class_data_dir\":       \"/content/data/\" + CLASS_PROMPT\n",
        "    },\n",
        "]\n",
        "\n",
        "# `class_data_dir` contains regularization images\n",
        "import json\n",
        "import os\n",
        "for c in concepts_list:\n",
        "    os.makedirs(c[\"instance_data_dir\"], exist_ok=True)\n",
        "    os.makedirs(c[\"class_data_dir\"], exist_ok=True)\n",
        "\n",
        "with open(\"concepts_list.json\", \"w\") as f:\n",
        "    json.dump(concepts_list, f, indent=4)"
      ]
    },
    {
      "cell_type": "markdown",
      "source": [
        "## 이미지 파일 업로드"
      ],
      "metadata": {
        "id": "y7eGoRE8y5Mn"
      }
    },
    {
      "cell_type": "code",
      "execution_count": null,
      "metadata": {
        "id": "32gYIDDR1aCp"
      },
      "outputs": [],
      "source": [
        "#@markdown (이 행을 실행시 업로드 버튼이 나타남)\n",
        "\n",
        "import os\n",
        "from google.colab import files\n",
        "import shutil\n",
        "\n",
        "for c in concepts_list:\n",
        "    print(f\"`{c['instance_prompt']}`에 대한 이미지 업로드 하기\")\n",
        "    uploaded = files.upload()\n",
        "    for filename in uploaded.keys():\n",
        "        dst_path = os.path.join(c['instance_data_dir'], filename)\n",
        "        shutil.move(filename, dst_path)\n",
        "\n",
        "for c in concepts_list:\n",
        "    print(f\"`{c['class_prompt']}`에 대한 이미지 업로드 하기\")\n",
        "    uploaded = files.upload()\n",
        "    for filename in uploaded.keys():\n",
        "        dst_path = os.path.join(c['class_data_dir'], filename)\n",
        "        shutil.move(filename, dst_path)"
      ]
    },
    {
      "cell_type": "markdown",
      "source": [
        "## AI 훈련 시작"
      ],
      "metadata": {
        "id": "LIpU95EU8UqJ"
      }
    },
    {
      "cell_type": "code",
      "execution_count": null,
      "metadata": {
        "id": "jjcSXTp-u-Eg"
      },
      "outputs": [],
      "source": [
        "SAMPLE_PROMPT = \"\\\"\"+INSTANCE_PROMPT + \" \" + CLASS_PROMPT+\"\\\"\"\n",
        "\n",
        "#@markdown seed\n",
        "SEED = \"1337\" #@param {type:\"string\"}\n",
        "\n",
        "#@markdown 훈련 배치 크기\n",
        "TRAIN_BATCH_SIZE = 1 #@param {type:\"string\"}\n",
        "\n",
        "#@markdown 해상도\n",
        "RESOLUTION = \"512\" #@param {type:\"string\"}\n",
        "\n",
        "#@markdown 클래스 이미지 개수 (폴더 이미지가 이 숫자보다 부족하게 있으면 자동으로 추가 생성)\n",
        "NUM_CLASS_IMAGES = \"200\" #@param {type:\"string\"}\n",
        "\n",
        "#@markdown 학습률\n",
        "LEARNING_RATE = \"1e-6\" #@param {type:\"string\"}\n",
        "\n",
        "#@markdown 훈련 횟수\n",
        "MAX_TRAIN_STEPS = \"3000\"  #@param {type:\"string\"}\n",
        "\n",
        "#@markdown N회마다 훈련 결과 저장\n",
        "SAVE_INTERVAL = \"1000\" #@param {type:\"string\"}\n",
        "\n",
        "!accelerate launch train_dreambooth.py \\\n",
        "  --pretrained_model_name_or_path=$CONVERTED_MODEL_PATH \\\n",
        "  --pretrained_vae_name_or_path=\"stabilityai/sd-vae-ft-mse\" \\\n",
        "  --output_dir=$OUTPUT_DIR \\\n",
        "  --with_prior_preservation --prior_loss_weight=1.0 \\\n",
        "  --seed=$SEED \\\n",
        "  --resolution=$RESOLUTION \\\n",
        "  --train_batch_size=$TRAIN_BATCH_SIZE \\\n",
        "  --train_text_encoder \\\n",
        "  --mixed_precision=\"fp16\" \\\n",
        "  --use_8bit_adam \\\n",
        "  --gradient_accumulation_steps=1 \\\n",
        "  --learning_rate=$LEARNING_RATE \\\n",
        "  --lr_scheduler=\"constant\" \\\n",
        "  --lr_warmup_steps=0 \\\n",
        "  --num_class_images=$NUM_CLASS_IMAGES \\\n",
        "  --sample_batch_size=1 \\\n",
        "  --max_train_steps=$MAX_TRAIN_STEPS \\\n",
        "  --save_interval=$SAVE_INTERVAL \\\n",
        "  --save_sample_prompt=$SAMPLE_PROMPT \\\n",
        "  --concepts_list=\"concepts_list.json\"\n",
        "\n",
        "# Reduce the `--save_interval` to lower than `--max_train_steps` to save weights from intermediate steps.\n",
        "# `--save_sample_prompt` can be same as `--instance_prompt` to generate intermediate samples (saved along with weights in samples directory)."
      ]
    },
    {
      "cell_type": "markdown",
      "metadata": {
        "id": "5V8wgU0HN-Kq"
      },
      "source": [
        "## 훈련 완료된 weights를 ckpt로 변환하기."
      ]
    },
    {
      "cell_type": "code",
      "execution_count": null,
      "metadata": {
        "id": "89Az5NUxOWdy",
        "cellView": "form"
      },
      "outputs": [],
      "source": [
        "#@markdown cpkt로 변환할 weights 폴더를 지정함\n",
        "\n",
        "#@markdown 빈칸으로 남겨둘시 가장 마지막으로 학습된 weights가 ckpt로 변환됨됨\n",
        "WEIGHTS_DIR = \"\" #@param {type:\"string\"}\n",
        "if WEIGHTS_DIR == \"\":\n",
        "    from natsort import natsorted\n",
        "    from glob import glob\n",
        "    import os\n",
        "    WEIGHTS_DIR = natsorted(glob(OUTPUT_DIR + os.sep + \"*\"))[-1]\n",
        "print(f\"[*] WEIGHTS_DIR={WEIGHTS_DIR}\")"
      ]
    },
    {
      "cell_type": "code",
      "execution_count": null,
      "metadata": {
        "id": "dcXzsUyG1aCy"
      },
      "outputs": [],
      "source": [
        "#@markdown cpkt로 변환\n",
        "ckpt_path = \"/content/drive/MyDrive/SD/models/Stable-diffusion/model.ckpt\"\n",
        "\n",
        "half_arg = \"\"\n",
        "#@markdown  fp16 사용시 용량이 절반으로 줄음 (=2GB)\n",
        "fp16 = True #@param {type: \"boolean\"}\n",
        "if fp16:\n",
        "    half_arg = \"--half\"\n",
        "!python convert_diffusers_to_original_stable_diffusion.py --model_path $WEIGHTS_DIR  --checkpoint_path $ckpt_path $half_arg\n",
        "print(f\"[*] Converted ckpt saved at {ckpt_path}\")"
      ]
    },
    {
      "cell_type": "code",
      "execution_count": null,
      "metadata": {
        "cellView": "form",
        "id": "lJoOgLQHnC8L"
      },
      "outputs": [],
      "source": [
        "#@title (옵션) ckpt를 제외하고 전부 삭제하기\n",
        "\n",
        "#@markdown [ ! ] Caution, Only execute if you are sure u want to delete the diffuser format weights and only use the ckpt.\n",
        "import shutil\n",
        "from glob import glob\n",
        "import os\n",
        "for f in glob(OUTPUT_DIR+os.sep+\"*\"):\n",
        "    if f != WEIGHTS_DIR:\n",
        "        shutil.rmtree(f)\n",
        "        print(\"Deleted\", f)\n",
        "for f in glob(WEIGHTS_DIR+\"/*\"):\n",
        "    if not f.endswith(\".ckpt\") or not f.endswith(\".json\"):\n",
        "        try:\n",
        "            shutil.rmtree(f)\n",
        "        except NotADirectoryError:\n",
        "            continue\n",
        "        print(\"Deleted\", f)"
      ]
    },
    {
      "cell_type": "code",
      "execution_count": null,
      "metadata": {
        "id": "jXgi8HM4c-DA",
        "cellView": "form"
      },
      "outputs": [],
      "source": [
        "#@title Free runtime memory\n",
        "exit()"
      ]
    }
  ],
  "metadata": {
    "accelerator": "GPU",
    "colab": {
      "collapsed_sections": [],
      "provenance": []
    },
    "kernelspec": {
      "display_name": "Python 3 (ipykernel)",
      "language": "python",
      "name": "python3"
    },
    "language_info": {
      "codemirror_mode": {
        "name": "ipython",
        "version": 3
      },
      "file_extension": ".py",
      "mimetype": "text/x-python",
      "name": "python",
      "nbconvert_exporter": "python",
      "pygments_lexer": "ipython3",
      "version": "3.10.7"
    },
    "vscode": {
      "interpreter": {
        "hash": "e7370f93d1d0cde622a1f8e1c04877d8463912d04d973331ad4851f04de6915a"
      }
    }
  },
  "nbformat": 4,
  "nbformat_minor": 0
}